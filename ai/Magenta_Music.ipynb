{
  "nbformat": 4,
  "nbformat_minor": 0,
  "metadata": {
    "colab": {
      "name": "Magenta Music.ipynb",
      "provenance": [],
      "collapsed_sections": []
    },
    "kernelspec": {
      "name": "python3",
      "display_name": "Python 3"
    },
    "language_info": {
      "name": "python"
    }
  },
  "cells": [
    {
      "cell_type": "markdown",
      "metadata": {
        "id": "AuEJ6wl-uyUg"
      },
      "source": [
        "# Installing Magenta\n",
        "Taken from their [Getting Started](https://colab.research.google.com/notebooks/magenta/hello_magenta/hello_magenta.ipynb#scrollTo=PfRDVhNs3UFx) notebook.\n",
        "\n",
        "This will take a few minutes to run."
      ]
    },
    {
      "cell_type": "code",
      "metadata": {
        "id": "apKnZLhLrPII",
        "colab": {
          "base_uri": "https://localhost:8080/"
        },
        "outputId": "81e3b2a7-9626-4ce5-b3c3-b55e1ed6c07a"
      },
      "source": [
        "#@test {\"output\": \"ignore\"}\n",
        "print('Installing dependencies...')\n",
        "!apt-get update -qq && apt-get install -qq libfluidsynth1 fluid-soundfont-gm build-essential libasound2-dev libjack-dev\n",
        "!pip install -qU pyfluidsynth pretty_midi\n",
        "\n",
        "!pip install -qU magenta\n",
        "\n",
        "# Hack to allow python to pick up the newly-installed fluidsynth lib. \n",
        "# This is only needed for the hosted Colab environment.\n",
        "import ctypes.util\n",
        "orig_ctypes_util_find_library = ctypes.util.find_library\n",
        "def proxy_find_library(lib):\n",
        "  if lib == 'fluidsynth':\n",
        "    return 'libfluidsynth.so.1'\n",
        "  else:\n",
        "    return orig_ctypes_util_find_library(lib)\n",
        "ctypes.util.find_library = proxy_find_library\n",
        "\n",
        "print('Importing libraries and defining some helper functions...')\n",
        "from google.colab import files\n",
        "\n",
        "import magenta\n",
        "import note_seq\n",
        "import tensorflow\n",
        "\n",
        "print('🎉 Done!')\n",
        "print(magenta.__version__)\n",
        "print(tensorflow.__version__)"
      ],
      "execution_count": null,
      "outputs": [
        {
          "output_type": "stream",
          "text": [
            "Installing dependencies...\n",
            "Selecting previously unselected package fluid-soundfont-gm.\n",
            "(Reading database ... 160772 files and directories currently installed.)\n",
            "Preparing to unpack .../fluid-soundfont-gm_3.1-5.1_all.deb ...\n",
            "Unpacking fluid-soundfont-gm (3.1-5.1) ...\n",
            "Selecting previously unselected package libfluidsynth1:amd64.\n",
            "Preparing to unpack .../libfluidsynth1_1.1.9-1_amd64.deb ...\n",
            "Unpacking libfluidsynth1:amd64 (1.1.9-1) ...\n",
            "Setting up fluid-soundfont-gm (3.1-5.1) ...\n",
            "Setting up libfluidsynth1:amd64 (1.1.9-1) ...\n",
            "Processing triggers for libc-bin (2.27-3ubuntu1.2) ...\n",
            "/sbin/ldconfig.real: /usr/local/lib/python3.7/dist-packages/ideep4py/lib/libmkldnn.so.0 is not a symbolic link\n",
            "\n",
            "\u001b[K     |████████████████████████████████| 5.6MB 23.5MB/s \n",
            "\u001b[K     |████████████████████████████████| 51kB 6.1MB/s \n",
            "\u001b[?25h  Building wheel for pretty-midi (setup.py) ... \u001b[?25l\u001b[?25hdone\n",
            "\u001b[K     |████████████████████████████████| 1.4MB 30.6MB/s \n",
            "\u001b[K     |████████████████████████████████| 1.6MB 39.7MB/s \n",
            "\u001b[K     |████████████████████████████████| 215kB 42.5MB/s \n",
            "\u001b[K     |████████████████████████████████| 2.3MB 34.9MB/s \n",
            "\u001b[K     |████████████████████████████████| 358kB 52.8MB/s \n",
            "\u001b[K     |████████████████████████████████| 3.6MB 45.5MB/s \n",
            "\u001b[K     |████████████████████████████████| 92kB 10.6MB/s \n",
            "\u001b[K     |████████████████████████████████| 1.5MB 30.5MB/s \n",
            "\u001b[K     |████████████████████████████████| 71kB 8.1MB/s \n",
            "\u001b[K     |████████████████████████████████| 256kB 58.9MB/s \n",
            "\u001b[K     |████████████████████████████████| 204kB 46.1MB/s \n",
            "\u001b[K     |████████████████████████████████| 20.2MB 1.4MB/s \n",
            "\u001b[K     |████████████████████████████████| 5.6MB 27.2MB/s \n",
            "\u001b[K     |████████████████████████████████| 655kB 38.9MB/s \n",
            "\u001b[K     |████████████████████████████████| 686kB 46.2MB/s \n",
            "\u001b[K     |████████████████████████████████| 81kB 10.1MB/s \n",
            "\u001b[K     |████████████████████████████████| 194kB 43.5MB/s \n",
            "\u001b[K     |████████████████████████████████| 368kB 49.4MB/s \n",
            "\u001b[K     |████████████████████████████████| 368kB 44.8MB/s \n",
            "\u001b[K     |████████████████████████████████| 256kB 45.2MB/s \n",
            "\u001b[?25h  Building wheel for librosa (setup.py) ... \u001b[?25l\u001b[?25hdone\n",
            "  Building wheel for mir-eval (setup.py) ... \u001b[?25l\u001b[?25hdone\n",
            "  Building wheel for pygtrie (setup.py) ... \u001b[?25l\u001b[?25hdone\n",
            "  Building wheel for python-rtmidi (setup.py) ... \u001b[?25l\u001b[?25hdone\n",
            "  Building wheel for pypng (setup.py) ... \u001b[?25l\u001b[?25hdone\n",
            "  Building wheel for bz2file (setup.py) ... \u001b[?25l\u001b[?25hdone\n",
            "\u001b[31mERROR: kfac 0.2.3 has requirement tensorflow-probability==0.8, but you'll have tensorflow-probability 0.12.1 which is incompatible.\u001b[0m\n",
            "\u001b[31mERROR: tensor2tensor 1.15.7 has requirement tensorflow-probability==0.7.0, but you'll have tensorflow-probability 0.12.1 which is incompatible.\u001b[0m\n",
            "Importing libraries and defining some helper functions...\n"
          ],
          "name": "stdout"
        },
        {
          "output_type": "stream",
          "text": [
            "/usr/local/lib/python3.7/dist-packages/librosa/util/decorators.py:9: NumbaDeprecationWarning: An import was requested from a module that has moved location.\n",
            "Import requested from: 'numba.decorators', please update to use 'numba.core.decorators' or pin to Numba version 0.48.0. This alias will not be present in Numba version 0.50.0.\n",
            "  from numba.decorators import jit as optional_jit\n",
            "/usr/local/lib/python3.7/dist-packages/librosa/util/decorators.py:9: NumbaDeprecationWarning: An import was requested from a module that has moved location.\n",
            "Import of 'jit' requested from: 'numba.decorators', please update to use 'numba.core.decorators' or pin to Numba version 0.48.0. This alias will not be present in Numba version 0.50.0.\n",
            "  from numba.decorators import jit as optional_jit\n"
          ],
          "name": "stderr"
        },
        {
          "output_type": "stream",
          "text": [
            "🎉 Done!\n",
            "2.1.3\n",
            "2.5.0\n"
          ],
          "name": "stdout"
        }
      ]
    },
    {
      "cell_type": "markdown",
      "metadata": {
        "id": "vVhabBKdc09g"
      },
      "source": [
        "# MusicVAE'\n",
        "This model will serve as the generator for new MIDI as well as the soundtrack variations.\n",
        "\n",
        "Begin with downloading and extracting the pre-trained model that produces Drums, Melody, and Bass at once.\n",
        "\n",
        "This will also take a few minutes to run."
      ]
    },
    {
      "cell_type": "code",
      "metadata": {
        "id": "7dV3TOoC1-UL"
      },
      "source": [
        "# See the list of checkpoints: https://github.com/magenta/magenta/tree/master/magenta/models/music_vae#pre-trained-checkpoints\n",
        "import os\n",
        "\n",
        "if not os.path.isfile(\"/content/hierdec-trio_16bar.tar\"):\n",
        "    os.system(\"curl -o hierdec-trio_16bar.tar https://storage.googleapis.com/magentadata/models/music_vae/checkpoints/hierdec-trio_16bar.tar\")\n",
        "\n",
        "if not os.path.isfile(\"/content/hierdec-trio_16bar.ckpt.index\"):\n",
        "    os.system(\"tar -xvf /content/hierdec-trio_16bar.tar\")"
      ],
      "execution_count": null,
      "outputs": []
    },
    {
      "cell_type": "code",
      "metadata": {
        "id": "oDRV_1giILJ6",
        "colab": {
          "base_uri": "https://localhost:8080/"
        },
        "outputId": "f1e55527-fc58-4a6b-bea7-51405ab1d9b1"
      },
      "source": [
        "# Initialize the model.\n",
        "from magenta.models.music_vae import configs\n",
        "from magenta.models.music_vae.trained_model import TrainedModel\n",
        "\n",
        "music_vae = TrainedModel(\n",
        "      configs.CONFIG_MAP['hierdec-trio_16bar'], \n",
        "      batch_size=4, \n",
        "      checkpoint_dir_or_path='/content/hierdec-trio_16bar.ckpt')"
      ],
      "execution_count": null,
      "outputs": [
        {
          "output_type": "stream",
          "text": [
            "INFO:tensorflow:Building MusicVAE model with BidirectionalLstmEncoder, HierarchicalLstmDecoder, and hparams:\n",
            "{'max_seq_len': 256, 'z_size': 512, 'free_bits': 256, 'max_beta': 0.2, 'beta_rate': 0.0, 'batch_size': 4, 'grad_clip': 1.0, 'clip_mode': 'global_norm', 'grad_norm_clip_to_zero': 10000, 'learning_rate': 0.001, 'decay_rate': 0.9999, 'min_learning_rate': 1e-05, 'conditional': True, 'dec_rnn_size': [1024, 1024], 'enc_rnn_size': [2048, 2048], 'dropout_keep_prob': 1.0, 'sampling_schedule': 'constant', 'sampling_rate': 0.0, 'use_cudnn': False, 'residual_encoder': False, 'residual_decoder': False, 'control_preprocessing_rnn_size': [256]}\n",
            "INFO:tensorflow:\n",
            "Encoder Cells (bidirectional):\n",
            "  units: [2048, 2048]\n",
            "\n",
            "WARNING:tensorflow:`tf.nn.rnn_cell.MultiRNNCell` is deprecated. This class is equivalent as `tf.keras.layers.StackedRNNCells`, and will be replaced by that in Tensorflow 2.0.\n",
            "WARNING:tensorflow:`tf.nn.rnn_cell.MultiRNNCell` is deprecated. This class is equivalent as `tf.keras.layers.StackedRNNCells`, and will be replaced by that in Tensorflow 2.0.\n",
            "WARNING:tensorflow:`tf.nn.rnn_cell.MultiRNNCell` is deprecated. This class is equivalent as `tf.keras.layers.StackedRNNCells`, and will be replaced by that in Tensorflow 2.0.\n",
            "WARNING:tensorflow:`tf.nn.rnn_cell.MultiRNNCell` is deprecated. This class is equivalent as `tf.keras.layers.StackedRNNCells`, and will be replaced by that in Tensorflow 2.0.\n",
            "INFO:tensorflow:\n",
            "Hierarchical Decoder:\n",
            "  input length: 256\n",
            "  level output lengths: [16, 16]\n",
            "\n",
            "WARNING:tensorflow:`tf.nn.rnn_cell.MultiRNNCell` is deprecated. This class is equivalent as `tf.keras.layers.StackedRNNCells`, and will be replaced by that in Tensorflow 2.0.\n",
            "INFO:tensorflow:\n",
            "Decoder Cells:\n",
            "  units: [1024, 1024]\n",
            "\n",
            "WARNING:tensorflow:`tf.nn.rnn_cell.MultiRNNCell` is deprecated. This class is equivalent as `tf.keras.layers.StackedRNNCells`, and will be replaced by that in Tensorflow 2.0.\n",
            "INFO:tensorflow:\n",
            "Decoder Cells:\n",
            "  units: [1024, 1024]\n",
            "\n",
            "WARNING:tensorflow:`tf.nn.rnn_cell.MultiRNNCell` is deprecated. This class is equivalent as `tf.keras.layers.StackedRNNCells`, and will be replaced by that in Tensorflow 2.0.\n",
            "INFO:tensorflow:\n",
            "Decoder Cells:\n",
            "  units: [1024, 1024]\n",
            "\n",
            "WARNING:tensorflow:`tf.nn.rnn_cell.MultiRNNCell` is deprecated. This class is equivalent as `tf.keras.layers.StackedRNNCells`, and will be replaced by that in Tensorflow 2.0.\n"
          ],
          "name": "stdout"
        },
        {
          "output_type": "stream",
          "text": [
            "/usr/local/lib/python3.7/dist-packages/tensorflow/python/keras/legacy_tf_layers/core.py:171: UserWarning: `tf.layers.dense` is deprecated and will be removed in a future version. Please use `tf.keras.layers.Dense` instead.\n",
            "  warnings.warn('`tf.layers.dense` is deprecated and '\n",
            "/usr/local/lib/python3.7/dist-packages/tensorflow/python/keras/engine/base_layer_v1.py:1692: UserWarning: `layer.apply` is deprecated and will be removed in a future version. Please use `layer.__call__` method instead.\n",
            "  warnings.warn('`layer.apply` is deprecated and '\n",
            "/usr/local/lib/python3.7/dist-packages/tensorflow/python/keras/engine/base_layer_v1.py:1700: UserWarning: `layer.add_variable` is deprecated and will be removed in a future version. Please use `layer.add_weight` method instead.\n",
            "  warnings.warn('`layer.add_variable` is deprecated and '\n"
          ],
          "name": "stderr"
        },
        {
          "output_type": "stream",
          "text": [
            "WARNING:tensorflow:From /usr/local/lib/python3.7/dist-packages/magenta/models/music_vae/base_model.py:189: to_float (from tensorflow.python.ops.math_ops) is deprecated and will be removed in a future version.\n",
            "Instructions for updating:\n",
            "Use `tf.cast` instead.\n",
            "WARNING:tensorflow:From /usr/local/lib/python3.7/dist-packages/magenta/contrib/rnn.py:474: bidirectional_dynamic_rnn (from tensorflow.python.ops.rnn) is deprecated and will be removed in a future version.\n",
            "Instructions for updating:\n",
            "Please use `keras.layers.Bidirectional(keras.layers.RNN(cell))`, which is equivalent to this API\n",
            "WARNING:tensorflow:From /usr/local/lib/python3.7/dist-packages/tensorflow/python/ops/rnn.py:447: dynamic_rnn (from tensorflow.python.ops.rnn) is deprecated and will be removed in a future version.\n",
            "Instructions for updating:\n",
            "Please use `keras.layers.RNN(cell)`, which is equivalent to this API\n",
            "INFO:tensorflow:Restoring parameters from /content/hierdec-trio_16bar.ckpt\n"
          ],
          "name": "stdout"
        }
      ]
    },
    {
      "cell_type": "markdown",
      "metadata": {
        "id": "eia8wg02UYII"
      },
      "source": [
        "# MIDI Generation\n",
        "Once the models have been loaded, it's a matter of calling the `sample()` function to generate new note sequences."
      ]
    },
    {
      "cell_type": "code",
      "metadata": {
        "colab": {
          "base_uri": "https://localhost:8080/",
          "height": 260
        },
        "id": "znZM8vhgF_Zr",
        "outputId": "4027cc28-42c4-4402-d519-3a5c1c2df595"
      },
      "source": [
        "from google.colab import files\n",
        "\n",
        "def download_midi(note_sequence, filename):\n",
        "    note_seq.sequence_proto_to_midi_file(note_sequence, filename)\n",
        "    files.download(filename)\n",
        "\n",
        "generated = music_vae.sample(n=1, length=80, temperature=0.4)\n",
        "\n",
        "note_seq.plot_sequence(generated[0])\n",
        "note_seq.play_sequence(generated[0], synth=note_seq.fluidsynth)\n",
        "\n",
        "download_midi(generated[0], \"trio_sample.mid\")"
      ],
      "execution_count": null,
      "outputs": [
        {
          "output_type": "display_data",
          "data": {
            "application/javascript": [
              "\n",
              "(function(root) {\n",
              "  function now() {\n",
              "    return new Date();\n",
              "  }\n",
              "\n",
              "  var force = true;\n",
              "\n",
              "  if (typeof root._bokeh_onload_callbacks === \"undefined\" || force === true) {\n",
              "    root._bokeh_onload_callbacks = [];\n",
              "    root._bokeh_is_loading = undefined;\n",
              "  }\n",
              "\n",
              "  var JS_MIME_TYPE = 'application/javascript';\n",
              "  var HTML_MIME_TYPE = 'text/html';\n",
              "  var EXEC_MIME_TYPE = 'application/vnd.bokehjs_exec.v0+json';\n",
              "  var CLASS_NAME = 'output_bokeh rendered_html';\n",
              "\n",
              "  /**\n",
              "   * Render data to the DOM node\n",
              "   */\n",
              "  function render(props, node) {\n",
              "    var script = document.createElement(\"script\");\n",
              "    node.appendChild(script);\n",
              "  }\n",
              "\n",
              "  /**\n",
              "   * Handle when an output is cleared or removed\n",
              "   */\n",
              "  function handleClearOutput(event, handle) {\n",
              "    var cell = handle.cell;\n",
              "\n",
              "    var id = cell.output_area._bokeh_element_id;\n",
              "    var server_id = cell.output_area._bokeh_server_id;\n",
              "    // Clean up Bokeh references\n",
              "    if (id != null && id in Bokeh.index) {\n",
              "      Bokeh.index[id].model.document.clear();\n",
              "      delete Bokeh.index[id];\n",
              "    }\n",
              "\n",
              "    if (server_id !== undefined) {\n",
              "      // Clean up Bokeh references\n",
              "      var cmd = \"from bokeh.io.state import curstate; print(curstate().uuid_to_server['\" + server_id + \"'].get_sessions()[0].document.roots[0]._id)\";\n",
              "      cell.notebook.kernel.execute(cmd, {\n",
              "        iopub: {\n",
              "          output: function(msg) {\n",
              "            var id = msg.content.text.trim();\n",
              "            if (id in Bokeh.index) {\n",
              "              Bokeh.index[id].model.document.clear();\n",
              "              delete Bokeh.index[id];\n",
              "            }\n",
              "          }\n",
              "        }\n",
              "      });\n",
              "      // Destroy server and session\n",
              "      var cmd = \"import bokeh.io.notebook as ion; ion.destroy_server('\" + server_id + \"')\";\n",
              "      cell.notebook.kernel.execute(cmd);\n",
              "    }\n",
              "  }\n",
              "\n",
              "  /**\n",
              "   * Handle when a new output is added\n",
              "   */\n",
              "  function handleAddOutput(event, handle) {\n",
              "    var output_area = handle.output_area;\n",
              "    var output = handle.output;\n",
              "\n",
              "    // limit handleAddOutput to display_data with EXEC_MIME_TYPE content only\n",
              "    if ((output.output_type != \"display_data\") || (!Object.prototype.hasOwnProperty.call(output.data, EXEC_MIME_TYPE))) {\n",
              "      return\n",
              "    }\n",
              "\n",
              "    var toinsert = output_area.element.find(\".\" + CLASS_NAME.split(' ')[0]);\n",
              "\n",
              "    if (output.metadata[EXEC_MIME_TYPE][\"id\"] !== undefined) {\n",
              "      toinsert[toinsert.length - 1].firstChild.textContent = output.data[JS_MIME_TYPE];\n",
              "      // store reference to embed id on output_area\n",
              "      output_area._bokeh_element_id = output.metadata[EXEC_MIME_TYPE][\"id\"];\n",
              "    }\n",
              "    if (output.metadata[EXEC_MIME_TYPE][\"server_id\"] !== undefined) {\n",
              "      var bk_div = document.createElement(\"div\");\n",
              "      bk_div.innerHTML = output.data[HTML_MIME_TYPE];\n",
              "      var script_attrs = bk_div.children[0].attributes;\n",
              "      for (var i = 0; i < script_attrs.length; i++) {\n",
              "        toinsert[toinsert.length - 1].firstChild.setAttribute(script_attrs[i].name, script_attrs[i].value);\n",
              "        toinsert[toinsert.length - 1].firstChild.textContent = bk_div.children[0].textContent\n",
              "      }\n",
              "      // store reference to server id on output_area\n",
              "      output_area._bokeh_server_id = output.metadata[EXEC_MIME_TYPE][\"server_id\"];\n",
              "    }\n",
              "  }\n",
              "\n",
              "  function register_renderer(events, OutputArea) {\n",
              "\n",
              "    function append_mime(data, metadata, element) {\n",
              "      // create a DOM node to render to\n",
              "      var toinsert = this.create_output_subarea(\n",
              "        metadata,\n",
              "        CLASS_NAME,\n",
              "        EXEC_MIME_TYPE\n",
              "      );\n",
              "      this.keyboard_manager.register_events(toinsert);\n",
              "      // Render to node\n",
              "      var props = {data: data, metadata: metadata[EXEC_MIME_TYPE]};\n",
              "      render(props, toinsert[toinsert.length - 1]);\n",
              "      element.append(toinsert);\n",
              "      return toinsert\n",
              "    }\n",
              "\n",
              "    /* Handle when an output is cleared or removed */\n",
              "    events.on('clear_output.CodeCell', handleClearOutput);\n",
              "    events.on('delete.Cell', handleClearOutput);\n",
              "\n",
              "    /* Handle when a new output is added */\n",
              "    events.on('output_added.OutputArea', handleAddOutput);\n",
              "\n",
              "    /**\n",
              "     * Register the mime type and append_mime function with output_area\n",
              "     */\n",
              "    OutputArea.prototype.register_mime_type(EXEC_MIME_TYPE, append_mime, {\n",
              "      /* Is output safe? */\n",
              "      safe: true,\n",
              "      /* Index of renderer in `output_area.display_order` */\n",
              "      index: 0\n",
              "    });\n",
              "  }\n",
              "\n",
              "  // register the mime type if in Jupyter Notebook environment and previously unregistered\n",
              "  if (root.Jupyter !== undefined) {\n",
              "    var events = require('base/js/events');\n",
              "    var OutputArea = require('notebook/js/outputarea').OutputArea;\n",
              "\n",
              "    if (OutputArea.prototype.mime_types().indexOf(EXEC_MIME_TYPE) == -1) {\n",
              "      register_renderer(events, OutputArea);\n",
              "    }\n",
              "  }\n",
              "\n",
              "  \n",
              "  if (typeof (root._bokeh_timeout) === \"undefined\" || force === true) {\n",
              "    root._bokeh_timeout = Date.now() + 5000;\n",
              "    root._bokeh_failed_load = false;\n",
              "  }\n",
              "\n",
              "  var NB_LOAD_WARNING = {'data': {'text/html':\n",
              "     \"<div style='background-color: #fdd'>\\n\"+\n",
              "     \"<p>\\n\"+\n",
              "     \"BokehJS does not appear to have successfully loaded. If loading BokehJS from CDN, this \\n\"+\n",
              "     \"may be due to a slow or bad network connection. Possible fixes:\\n\"+\n",
              "     \"</p>\\n\"+\n",
              "     \"<ul>\\n\"+\n",
              "     \"<li>re-rerun `output_notebook()` to attempt to load from CDN again, or</li>\\n\"+\n",
              "     \"<li>use INLINE resources instead, as so:</li>\\n\"+\n",
              "     \"</ul>\\n\"+\n",
              "     \"<code>\\n\"+\n",
              "     \"from bokeh.resources import INLINE\\n\"+\n",
              "     \"output_notebook(resources=INLINE)\\n\"+\n",
              "     \"</code>\\n\"+\n",
              "     \"</div>\"}};\n",
              "\n",
              "  function display_loaded() {\n",
              "    var el = document.getElementById(null);\n",
              "    if (el != null) {\n",
              "      el.textContent = \"BokehJS is loading...\";\n",
              "    }\n",
              "    if (root.Bokeh !== undefined) {\n",
              "      if (el != null) {\n",
              "        el.textContent = \"BokehJS \" + root.Bokeh.version + \" successfully loaded.\";\n",
              "      }\n",
              "    } else if (Date.now() < root._bokeh_timeout) {\n",
              "      setTimeout(display_loaded, 100)\n",
              "    }\n",
              "  }\n",
              "\n",
              "\n",
              "  function run_callbacks() {\n",
              "    try {\n",
              "      root._bokeh_onload_callbacks.forEach(function(callback) {\n",
              "        if (callback != null)\n",
              "          callback();\n",
              "      });\n",
              "    } finally {\n",
              "      delete root._bokeh_onload_callbacks\n",
              "    }\n",
              "    console.debug(\"Bokeh: all callbacks have finished\");\n",
              "  }\n",
              "\n",
              "  function load_libs(css_urls, js_urls, callback) {\n",
              "    if (css_urls == null) css_urls = [];\n",
              "    if (js_urls == null) js_urls = [];\n",
              "\n",
              "    root._bokeh_onload_callbacks.push(callback);\n",
              "    if (root._bokeh_is_loading > 0) {\n",
              "      console.debug(\"Bokeh: BokehJS is being loaded, scheduling callback at\", now());\n",
              "      return null;\n",
              "    }\n",
              "    if (js_urls == null || js_urls.length === 0) {\n",
              "      run_callbacks();\n",
              "      return null;\n",
              "    }\n",
              "    console.debug(\"Bokeh: BokehJS not loaded, scheduling load and callback at\", now());\n",
              "    root._bokeh_is_loading = css_urls.length + js_urls.length;\n",
              "\n",
              "    function on_load() {\n",
              "      root._bokeh_is_loading--;\n",
              "      if (root._bokeh_is_loading === 0) {\n",
              "        console.debug(\"Bokeh: all BokehJS libraries/stylesheets loaded\");\n",
              "        run_callbacks()\n",
              "      }\n",
              "    }\n",
              "\n",
              "    function on_error(url) {\n",
              "      console.error(\"failed to load \" + url);\n",
              "    }\n",
              "\n",
              "    for (let i = 0; i < css_urls.length; i++) {\n",
              "      const url = css_urls[i];\n",
              "      const element = document.createElement(\"link\");\n",
              "      element.onload = on_load;\n",
              "      element.onerror = on_error.bind(null, url);\n",
              "      element.rel = \"stylesheet\";\n",
              "      element.type = \"text/css\";\n",
              "      element.href = url;\n",
              "      console.debug(\"Bokeh: injecting link tag for BokehJS stylesheet: \", url);\n",
              "      document.body.appendChild(element);\n",
              "    }\n",
              "\n",
              "    const hashes = {\"https://cdn.bokeh.org/bokeh/release/bokeh-2.3.2.min.js\": \"XypntL49z55iwGVUW4qsEu83zKL3XEcz0MjuGOQ9SlaaQ68X/g+k1FcioZi7oQAc\", \"https://cdn.bokeh.org/bokeh/release/bokeh-tables-2.3.2.min.js\": \"bEsM86IHGDTLCS0Zod8a8WM6Y4+lafAL/eSiyQcuPzinmWNgNO2/olUF0Z2Dkn5i\", \"https://cdn.bokeh.org/bokeh/release/bokeh-widgets-2.3.2.min.js\": \"TX0gSQTdXTTeScqxj6PVQxTiRW8DOoGVwinyi1D3kxv7wuxQ02XkOxv0xwiypcAH\"};\n",
              "\n",
              "    for (let i = 0; i < js_urls.length; i++) {\n",
              "      const url = js_urls[i];\n",
              "      const element = document.createElement('script');\n",
              "      element.onload = on_load;\n",
              "      element.onerror = on_error.bind(null, url);\n",
              "      element.async = false;\n",
              "      element.src = url;\n",
              "      if (url in hashes) {\n",
              "        element.crossOrigin = \"anonymous\";\n",
              "        element.integrity = \"sha384-\" + hashes[url];\n",
              "      }\n",
              "      console.debug(\"Bokeh: injecting script tag for BokehJS library: \", url);\n",
              "      document.head.appendChild(element);\n",
              "    }\n",
              "  };\n",
              "\n",
              "  function inject_raw_css(css) {\n",
              "    const element = document.createElement(\"style\");\n",
              "    element.appendChild(document.createTextNode(css));\n",
              "    document.body.appendChild(element);\n",
              "  }\n",
              "\n",
              "  \n",
              "  var js_urls = [\"https://cdn.bokeh.org/bokeh/release/bokeh-2.3.2.min.js\", \"https://cdn.bokeh.org/bokeh/release/bokeh-widgets-2.3.2.min.js\", \"https://cdn.bokeh.org/bokeh/release/bokeh-tables-2.3.2.min.js\"];\n",
              "  var css_urls = [];\n",
              "  \n",
              "\n",
              "  var inline_js = [\n",
              "    function(Bokeh) {\n",
              "      Bokeh.set_log_level(\"info\");\n",
              "    },\n",
              "    function(Bokeh) {\n",
              "    \n",
              "    \n",
              "    }\n",
              "  ];\n",
              "\n",
              "  function run_inline_js() {\n",
              "    \n",
              "    if (root.Bokeh !== undefined || force === true) {\n",
              "      \n",
              "    for (var i = 0; i < inline_js.length; i++) {\n",
              "      inline_js[i].call(root, root.Bokeh);\n",
              "    }\n",
              "    } else if (Date.now() < root._bokeh_timeout) {\n",
              "      setTimeout(run_inline_js, 100);\n",
              "    } else if (!root._bokeh_failed_load) {\n",
              "      console.log(\"Bokeh: BokehJS failed to load within specified timeout.\");\n",
              "      root._bokeh_failed_load = true;\n",
              "    } else if (force !== true) {\n",
              "      var cell = $(document.getElementById(null)).parents('.cell').data().cell;\n",
              "      cell.output_area.append_execute_result(NB_LOAD_WARNING)\n",
              "    }\n",
              "\n",
              "  }\n",
              "\n",
              "  if (root._bokeh_is_loading === 0) {\n",
              "    console.debug(\"Bokeh: BokehJS loaded, going straight to plotting\");\n",
              "    run_inline_js();\n",
              "  } else {\n",
              "    load_libs(css_urls, js_urls, function() {\n",
              "      console.debug(\"Bokeh: BokehJS plotting callback run at\", now());\n",
              "      run_inline_js();\n",
              "    });\n",
              "  }\n",
              "}(window));"
            ],
            "application/vnd.bokehjs_load.v0+json": "\n(function(root) {\n  function now() {\n    return new Date();\n  }\n\n  var force = true;\n\n  if (typeof root._bokeh_onload_callbacks === \"undefined\" || force === true) {\n    root._bokeh_onload_callbacks = [];\n    root._bokeh_is_loading = undefined;\n  }\n\n  \n\n  \n  if (typeof (root._bokeh_timeout) === \"undefined\" || force === true) {\n    root._bokeh_timeout = Date.now() + 5000;\n    root._bokeh_failed_load = false;\n  }\n\n  var NB_LOAD_WARNING = {'data': {'text/html':\n     \"<div style='background-color: #fdd'>\\n\"+\n     \"<p>\\n\"+\n     \"BokehJS does not appear to have successfully loaded. If loading BokehJS from CDN, this \\n\"+\n     \"may be due to a slow or bad network connection. Possible fixes:\\n\"+\n     \"</p>\\n\"+\n     \"<ul>\\n\"+\n     \"<li>re-rerun `output_notebook()` to attempt to load from CDN again, or</li>\\n\"+\n     \"<li>use INLINE resources instead, as so:</li>\\n\"+\n     \"</ul>\\n\"+\n     \"<code>\\n\"+\n     \"from bokeh.resources import INLINE\\n\"+\n     \"output_notebook(resources=INLINE)\\n\"+\n     \"</code>\\n\"+\n     \"</div>\"}};\n\n  function display_loaded() {\n    var el = document.getElementById(null);\n    if (el != null) {\n      el.textContent = \"BokehJS is loading...\";\n    }\n    if (root.Bokeh !== undefined) {\n      if (el != null) {\n        el.textContent = \"BokehJS \" + root.Bokeh.version + \" successfully loaded.\";\n      }\n    } else if (Date.now() < root._bokeh_timeout) {\n      setTimeout(display_loaded, 100)\n    }\n  }\n\n\n  function run_callbacks() {\n    try {\n      root._bokeh_onload_callbacks.forEach(function(callback) {\n        if (callback != null)\n          callback();\n      });\n    } finally {\n      delete root._bokeh_onload_callbacks\n    }\n    console.debug(\"Bokeh: all callbacks have finished\");\n  }\n\n  function load_libs(css_urls, js_urls, callback) {\n    if (css_urls == null) css_urls = [];\n    if (js_urls == null) js_urls = [];\n\n    root._bokeh_onload_callbacks.push(callback);\n    if (root._bokeh_is_loading > 0) {\n      console.debug(\"Bokeh: BokehJS is being loaded, scheduling callback at\", now());\n      return null;\n    }\n    if (js_urls == null || js_urls.length === 0) {\n      run_callbacks();\n      return null;\n    }\n    console.debug(\"Bokeh: BokehJS not loaded, scheduling load and callback at\", now());\n    root._bokeh_is_loading = css_urls.length + js_urls.length;\n\n    function on_load() {\n      root._bokeh_is_loading--;\n      if (root._bokeh_is_loading === 0) {\n        console.debug(\"Bokeh: all BokehJS libraries/stylesheets loaded\");\n        run_callbacks()\n      }\n    }\n\n    function on_error(url) {\n      console.error(\"failed to load \" + url);\n    }\n\n    for (let i = 0; i < css_urls.length; i++) {\n      const url = css_urls[i];\n      const element = document.createElement(\"link\");\n      element.onload = on_load;\n      element.onerror = on_error.bind(null, url);\n      element.rel = \"stylesheet\";\n      element.type = \"text/css\";\n      element.href = url;\n      console.debug(\"Bokeh: injecting link tag for BokehJS stylesheet: \", url);\n      document.body.appendChild(element);\n    }\n\n    const hashes = {\"https://cdn.bokeh.org/bokeh/release/bokeh-2.3.2.min.js\": \"XypntL49z55iwGVUW4qsEu83zKL3XEcz0MjuGOQ9SlaaQ68X/g+k1FcioZi7oQAc\", \"https://cdn.bokeh.org/bokeh/release/bokeh-tables-2.3.2.min.js\": \"bEsM86IHGDTLCS0Zod8a8WM6Y4+lafAL/eSiyQcuPzinmWNgNO2/olUF0Z2Dkn5i\", \"https://cdn.bokeh.org/bokeh/release/bokeh-widgets-2.3.2.min.js\": \"TX0gSQTdXTTeScqxj6PVQxTiRW8DOoGVwinyi1D3kxv7wuxQ02XkOxv0xwiypcAH\"};\n\n    for (let i = 0; i < js_urls.length; i++) {\n      const url = js_urls[i];\n      const element = document.createElement('script');\n      element.onload = on_load;\n      element.onerror = on_error.bind(null, url);\n      element.async = false;\n      element.src = url;\n      if (url in hashes) {\n        element.crossOrigin = \"anonymous\";\n        element.integrity = \"sha384-\" + hashes[url];\n      }\n      console.debug(\"Bokeh: injecting script tag for BokehJS library: \", url);\n      document.head.appendChild(element);\n    }\n  };\n\n  function inject_raw_css(css) {\n    const element = document.createElement(\"style\");\n    element.appendChild(document.createTextNode(css));\n    document.body.appendChild(element);\n  }\n\n  \n  var js_urls = [\"https://cdn.bokeh.org/bokeh/release/bokeh-2.3.2.min.js\", \"https://cdn.bokeh.org/bokeh/release/bokeh-widgets-2.3.2.min.js\", \"https://cdn.bokeh.org/bokeh/release/bokeh-tables-2.3.2.min.js\"];\n  var css_urls = [];\n  \n\n  var inline_js = [\n    function(Bokeh) {\n      Bokeh.set_log_level(\"info\");\n    },\n    function(Bokeh) {\n    \n    \n    }\n  ];\n\n  function run_inline_js() {\n    \n    if (root.Bokeh !== undefined || force === true) {\n      \n    for (var i = 0; i < inline_js.length; i++) {\n      inline_js[i].call(root, root.Bokeh);\n    }\n    } else if (Date.now() < root._bokeh_timeout) {\n      setTimeout(run_inline_js, 100);\n    } else if (!root._bokeh_failed_load) {\n      console.log(\"Bokeh: BokehJS failed to load within specified timeout.\");\n      root._bokeh_failed_load = true;\n    } else if (force !== true) {\n      var cell = $(document.getElementById(null)).parents('.cell').data().cell;\n      cell.output_area.append_execute_result(NB_LOAD_WARNING)\n    }\n\n  }\n\n  if (root._bokeh_is_loading === 0) {\n    console.debug(\"Bokeh: BokehJS loaded, going straight to plotting\");\n    run_inline_js();\n  } else {\n    load_libs(css_urls, js_urls, function() {\n      console.debug(\"Bokeh: BokehJS plotting callback run at\", now());\n      run_inline_js();\n    });\n  }\n}(window));"
          },
          "metadata": {
            "tags": []
          }
        },
        {
          "output_type": "display_data",
          "data": {
            "text/html": [
              "\n",
              "\n",
              "\n",
              "\n",
              "\n",
              "\n",
              "  <div class=\"bk-root\" id=\"79abbcbb-9886-4470-be95-b692c20d9482\" data-root-id=\"1002\"></div>\n"
            ]
          },
          "metadata": {
            "tags": []
          }
        },
        {
          "output_type": "display_data",
          "data": {
            "application/javascript": [
              "(function(root) {\n",
              "  function embed_document(root) {\n",
              "    \n",
              "  var docs_json = {\"ebd79c16-083a-479f-bc16-d357e040ad69\":{\"defs\":[],\"roots\":{\"references\":[{\"attributes\":{\"below\":[{\"id\":\"1011\"}],\"center\":[{\"id\":\"1014\"},{\"id\":\"1018\"}],\"height\":200,\"left\":[{\"id\":\"1015\"}],\"renderers\":[{\"id\":\"1038\"},{\"id\":\"1044\"},{\"id\":\"1050\"}],\"title\":{\"id\":\"1053\"},\"toolbar\":{\"id\":\"1025\"},\"width\":500,\"x_range\":{\"id\":\"1003\"},\"x_scale\":{\"id\":\"1007\"},\"y_range\":{\"id\":\"1005\"},\"y_scale\":{\"id\":\"1009\"}},\"id\":\"1002\",\"subtype\":\"Figure\",\"type\":\"Plot\"},{\"attributes\":{\"bottom_units\":\"screen\",\"fill_alpha\":0.5,\"fill_color\":\"lightgrey\",\"left_units\":\"screen\",\"level\":\"overlay\",\"line_alpha\":1.0,\"line_color\":\"black\",\"line_dash\":[4,4],\"line_width\":2,\"right_units\":\"screen\",\"syncable\":false,\"top_units\":\"screen\"},\"id\":\"1024\",\"type\":\"BoxAnnotation\"},{\"attributes\":{\"bottom\":{\"field\":\"bottom\"},\"fill_alpha\":{\"field\":\"fill_alpha\"},\"fill_color\":{\"value\":\"#d53e4f\"},\"left\":{\"field\":\"start_time\"},\"right\":{\"field\":\"end_time\"},\"top\":{\"field\":\"top\"}},\"id\":\"1036\",\"type\":\"Quad\"},{\"attributes\":{\"bottom\":{\"field\":\"bottom\"},\"fill_alpha\":{\"field\":\"fill_alpha\"},\"fill_color\":{\"value\":\"#f46d43\"},\"left\":{\"field\":\"start_time\"},\"right\":{\"field\":\"end_time\"},\"top\":{\"field\":\"top\"}},\"id\":\"1048\",\"type\":\"Quad\"},{\"attributes\":{\"data_source\":{\"id\":\"1046\"},\"glyph\":{\"id\":\"1048\"},\"hover_glyph\":null,\"muted_glyph\":null,\"nonselection_glyph\":{\"id\":\"1049\"},\"view\":{\"id\":\"1051\"}},\"id\":\"1050\",\"type\":\"GlyphRenderer\"},{\"attributes\":{},\"id\":\"1053\",\"type\":\"Title\"},{\"attributes\":{\"data_source\":{\"id\":\"1040\"},\"glyph\":{\"id\":\"1042\"},\"hover_glyph\":null,\"muted_glyph\":null,\"nonselection_glyph\":{\"id\":\"1043\"},\"view\":{\"id\":\"1045\"}},\"id\":\"1044\",\"type\":\"GlyphRenderer\"},{\"attributes\":{\"axis_label\":\"time (sec)\",\"formatter\":{\"id\":\"1055\"},\"major_label_policy\":{\"id\":\"1054\"},\"ticker\":{\"id\":\"1012\"}},\"id\":\"1011\",\"type\":\"LinearAxis\"},{\"attributes\":{\"data\":{\"bottom\":{\"__ndarray__\":\"zczMzMzMQUDNzMzMzMxBQM3MzMzMTEVAzczMzMxMRUDNzMzMzMxCQM3MzMzMzEJAzczMzMxMRkDNzMzMzMxCQM3MzMzMTEBAzczMzMxMRkDNzMzMzExFQM3MzMzMzERAzczMzMzMQ0DNzMzMzMxJQM3MzMzMzEhAzczMzMxMSEDNzMzMzExBQM3MzMzMTEFAzczMzMxMQ0DNzMzMzMxEQM3MzMzMzENAzczMzMzMQ0DNzMzMzMxFQM3MzMzMzERAzczMzMxMQUDNzMzMzExBQM3MzMzMzEJAzczMzMxMQ0DNzMzMzMxDQM3MzMzMzENAzczMzMzMQ0DNzMzMzMxDQM3MzMzMzENAzczMzMzMSUDNzMzMzMxJQM3MzMzMzENAzczMzMzMQ0DNzMzMzMxJQM3MzMzMzElAzczMzMzMQ0DNzMzMzMxJQM3MzMzMzENAzczMzMzMSUDNzMzMzMxDQM3MzMzMzENAzczMzMxMQUDNzMzMzExBQM3MzMzMTEdAzczMzMzMREDNzMzMzExGQM3MzMzMTEdAzczMzMzMQ0DNzMzMzMxDQM3MzMzMzENAzczMzMxMR0DNzMzMzMxDQM3MzMzMzENAzczMzMzMSUDNzMzMzMxDQM3MzMzMzENAzczMzMzMSUDNzMzMzMxDQM3MzMzMzENAzczMzMzMSUDNzMzMzMxDQM3MzMzMzERAzczMzMzMREDNzMzMzMxEQM3MzMzMzERAzczMzMzMQ0DNzMzMzMxDQM3MzMzMzENAzczMzMzMQ0DNzMzMzExBQM3MzMzMTEFAzczMzMxMR0DNzMzMzExHQM3MzMzMTEZAzczMzMxMRkDNzMzMzMxFQM3MzMzMzERAzczMzMxMQUDNzMzMzExBQM3MzMzMzEJAzczMzMxMQ0DNzMzMzMxEQM3MzMzMTEZAzczMzMxMRkDNzMzMzMxDQM3MzMzMzENAzczMzMzMQ0DNzMzMzMxDQM3MzMzMzElAzczMzMzMQ0DNzMzMzMxDQM3MzMzMzElAzczMzMzMQ0DNzMzMzExGQM3MzMzMTEZAzczMzMxMR0DNzMzMzExHQM3MzMzMTEhAzczMzMxMRkDNzMzMzExGQM3MzMzMTEZAzczMzMxMRkDNzMzMzExHQM3MzMzMTEdAzczMzMxMR0DNzMzMzExFQM3MzMzMTEVAzczMzMzMREDNzMzMzMxEQM3MzMzMzERA\",\"dtype\":\"float64\",\"order\":\"little\",\"shape\":[114]},\"duration\":{\"__ndarray__\":\"AAAAAAAA0D8AAAAAAADQPwAAAAAAANA/AAAAAAAAwD8AAAAAAADAPwAAAAAAAMA/AAAAAAAA0D8AAAAAAADAPwAAAAAAANA/AAAAAAAA0D8AAAAAAADQPwAAAAAAANA/AAAAAAAA4D8AAAAAAADQPwAAAAAAAMA/AAAAAAAAwD8AAAAAAADQPwAAAAAAANA/AAAAAAAA0D8AAAAAAADQPwAAAAAAAMA/AAAAAAAAwD8AAAAAAADAPwAAAAAAAMA/AAAAAAAA0D8AAAAAAADQPwAAAAAAANA/AAAAAAAA0D8AAAAAAADQPwAAAAAAAMA/AAAAAAAAwD8AAAAAAADAPwAAAAAAAMA/AAAAAAAA0D8AAAAAAADAPwAAAAAAAMA/AAAAAAAA0D8AAAAAAADQPwAAAAAAAMA/AAAAAAAAwD8AAAAAAADAPwAAAAAAANg/AAAAAAAAwD8AAAAAAADYPwAAAAAAANg/AAAAAAAAwD8AAAAAAADQPwAAAAAAAMA/AAAAAAAAwD8AAAAAAADAPwAAAAAAAMA/AAAAAAAAwD8AAAAAAADAPwAAAAAAANg/AAAAAAAAwD8AAAAAAADAPwAAAAAAANA/AAAAAAAA2D8AAAAAAADAPwAAAAAAANA/AAAAAAAAwD8AAAAAAADAPwAAAAAAANA/AAAAAAAAwD8AAAAAAADAPwAAAAAAAMA/AAAAAAAAwD8AAAAAAADYPwAAAAAAAMA/AAAAAAAAwD8AAAAAAADAPwAAAAAAANg/AAAAAAAAwD8AAAAAAADAPwAAAAAAANA/AAAAAAAA0D8AAAAAAADAPwAAAAAAAMA/AAAAAAAA0D8AAAAAAADYPwAAAAAAAMA/AAAAAAAAwD8AAAAAAADQPwAAAAAAAMA/AAAAAAAAwD8AAAAAAADQPwAAAAAAAMA/AAAAAAAA0D8AAAAAAADQPwAAAAAAAMA/AAAAAAAA0D8AAAAAAADQPwAAAAAAANg/AAAAAAAAwD8AAAAAAADAPwAAAAAAANg/AAAAAAAA4D8AAAAAAADYPwAAAAAAAMA/AAAAAAAAwD8AAAAAAADAPwAAAAAAAOA/AAAAAAAA0D8AAAAAAADQPwAAAAAAANA/AAAAAAAAwD8AAAAAAADQPwAAAAAAANA/AAAAAAAA5D8AAAAAAADAPwAAAAAAAMA/AAAAAAAAwD8AAAAAAADAPwAAAAAAAMA/\",\"dtype\":\"float64\",\"order\":\"little\",\"shape\":[114]},\"end_time\":{\"__ndarray__\":\"AAAAAAAA0D8AAAAAAADgPwAAAAAAAOg/AAAAAAAA8D8AAAAAAADyPwAAAAAAAPg/AAAAAAAA/D8AAAAAAAAAQAAAAAAAAAJAAAAAAAAABEAAAAAAAAAGQAAAAAAAAAhAAAAAAAAADEAAAAAAAAAOQAAAAAAAAA9AAAAAAAAAEEAAAAAAAAARQAAAAAAAABJAAAAAAAAAE0AAAAAAAAAUQAAAAAAAgBRAAAAAAACAFUAAAAAAAIAWQAAAAAAAABhAAAAAAAAAGUAAAAAAAAAaQAAAAAAAABtAAAAAAAAAHEAAAAAAAAAdQAAAAAAAgB1AAAAAAACAHkAAAAAAAEAgQAAAAAAAwCBAAAAAAACAIUAAAAAAAAAiQAAAAAAAQCJAAAAAAAAAI0AAAAAAAIAjQAAAAAAAACRAAAAAAABAJEAAAAAAAMAkQAAAAAAAwCVAAAAAAAAAJkAAAAAAAMAmQAAAAAAAwCdAAAAAAABAKEAAAAAAAAApQAAAAAAAQClAAAAAAABAKkAAAAAAAEArQAAAAAAAACxAAAAAAABALEAAAAAAAMAsQAAAAAAAwC1AAAAAAAAALkAAAAAAAEAuQAAAAAAAAC9AAAAAAADAL0AAAAAAACAwQAAAAAAAgDBAAAAAAACgMEAAAAAAACAxQAAAAAAAgDFAAAAAAACgMUAAAAAAAAAyQAAAAAAAIDJAAAAAAABgMkAAAAAAAOAyQAAAAAAAADNAAAAAAAAgM0AAAAAAAGAzQAAAAAAA4DNAAAAAAAAANEAAAAAAACA0QAAAAAAAgDRAAAAAAADANEAAAAAAAAA1QAAAAAAAIDVAAAAAAACANUAAAAAAAOA1QAAAAAAAADZAAAAAAAAgNkAAAAAAAIA2QAAAAAAAoDZAAAAAAADANkAAAAAAAAA3QAAAAAAAIDdAAAAAAACAN0AAAAAAAMA3QAAAAAAAADhAAAAAAABAOEAAAAAAAIA4QAAAAAAA4DhAAAAAAAAgOUAAAAAAAGA5QAAAAAAA4DlAAAAAAACAOkAAAAAAAOA6QAAAAAAAADtAAAAAAAAgO0AAAAAAAIA7QAAAAAAAADxAAAAAAABAPEAAAAAAAIA8QAAAAAAAwDxAAAAAAAAAPUAAAAAAAEA9QAAAAAAAwD1AAAAAAACAPkAAAAAAAKA+QAAAAAAA4D5AAAAAAAAgP0AAAAAAAIA/QAAAAAAAAEBA\",\"dtype\":\"float64\",\"order\":\"little\",\"shape\":[114]},\"fill_alpha\":{\"__ndarray__\":\"AAAAAAAA8D8AAAAAAADwPwAAAAAAAPA/AAAAAAAA8D8AAAAAAADwPwAAAAAAAPA/AAAAAAAA8D8AAAAAAADwPwAAAAAAAPA/AAAAAAAA8D8AAAAAAADwPwAAAAAAAPA/AAAAAAAA8D8AAAAAAADwPwAAAAAAAPA/AAAAAAAA8D8AAAAAAADwPwAAAAAAAPA/AAAAAAAA8D8AAAAAAADwPwAAAAAAAPA/AAAAAAAA8D8AAAAAAADwPwAAAAAAAPA/AAAAAAAA8D8AAAAAAADwPwAAAAAAAPA/AAAAAAAA8D8AAAAAAADwPwAAAAAAAPA/AAAAAAAA8D8AAAAAAADwPwAAAAAAAPA/AAAAAAAA8D8AAAAAAADwPwAAAAAAAPA/AAAAAAAA8D8AAAAAAADwPwAAAAAAAPA/AAAAAAAA8D8AAAAAAADwPwAAAAAAAPA/AAAAAAAA8D8AAAAAAADwPwAAAAAAAPA/AAAAAAAA8D8AAAAAAADwPwAAAAAAAPA/AAAAAAAA8D8AAAAAAADwPwAAAAAAAPA/AAAAAAAA8D8AAAAAAADwPwAAAAAAAPA/AAAAAAAA8D8AAAAAAADwPwAAAAAAAPA/AAAAAAAA8D8AAAAAAADwPwAAAAAAAPA/AAAAAAAA8D8AAAAAAADwPwAAAAAAAPA/AAAAAAAA8D8AAAAAAADwPwAAAAAAAPA/AAAAAAAA8D8AAAAAAADwPwAAAAAAAPA/AAAAAAAA8D8AAAAAAADwPwAAAAAAAPA/AAAAAAAA8D8AAAAAAADwPwAAAAAAAPA/AAAAAAAA8D8AAAAAAADwPwAAAAAAAPA/AAAAAAAA8D8AAAAAAADwPwAAAAAAAPA/AAAAAAAA8D8AAAAAAADwPwAAAAAAAPA/AAAAAAAA8D8AAAAAAADwPwAAAAAAAPA/AAAAAAAA8D8AAAAAAADwPwAAAAAAAPA/AAAAAAAA8D8AAAAAAADwPwAAAAAAAPA/AAAAAAAA8D8AAAAAAADwPwAAAAAAAPA/AAAAAAAA8D8AAAAAAADwPwAAAAAAAPA/AAAAAAAA8D8AAAAAAADwPwAAAAAAAPA/AAAAAAAA8D8AAAAAAADwPwAAAAAAAPA/AAAAAAAA8D8AAAAAAADwPwAAAAAAAPA/AAAAAAAA8D8AAAAAAADwPwAAAAAAAPA/AAAAAAAA8D8AAAAAAADwPwAAAAAAAPA/\",\"dtype\":\"float64\",\"order\":\"little\",\"shape\":[114]},\"index\":[112,113,114,115,116,117,118,119,120,121,122,123,124,125,126,127,128,129,130,131,132,133,134,135,136,137,138,139,140,141,142,143,144,145,146,147,148,149,150,151,152,153,154,155,156,157,158,159,160,161,162,163,164,165,166,167,168,169,170,171,172,173,174,175,176,177,178,179,180,181,182,183,184,185,186,187,188,189,190,191,192,193,194,195,196,197,198,199,200,201,202,203,204,205,206,207,208,209,210,211,212,213,214,215,216,217,218,219,220,221,222,223,224,225],\"instrument\":[1,1,1,1,1,1,1,1,1,1,1,1,1,1,1,1,1,1,1,1,1,1,1,1,1,1,1,1,1,1,1,1,1,1,1,1,1,1,1,1,1,1,1,1,1,1,1,1,1,1,1,1,1,1,1,1,1,1,1,1,1,1,1,1,1,1,1,1,1,1,1,1,1,1,1,1,1,1,1,1,1,1,1,1,1,1,1,1,1,1,1,1,1,1,1,1,1,1,1,1,1,1,1,1,1,1,1,1,1,1,1,1,1,1],\"pitch\":[36,36,43,43,38,38,45,38,33,45,43,42,40,52,50,49,35,35,39,42,40,40,44,42,35,35,38,39,40,40,40,40,40,52,52,40,40,52,52,40,52,40,52,40,40,35,35,47,42,45,47,40,40,40,47,40,40,52,40,40,52,40,40,52,40,42,42,42,42,40,40,40,40,35,35,47,47,45,45,44,42,35,35,38,39,42,45,45,40,40,40,40,52,40,40,52,40,45,45,47,47,49,45,45,45,45,47,47,47,43,43,42,42,42],\"program\":[33,33,33,33,33,33,33,33,33,33,33,33,33,33,33,33,33,33,33,33,33,33,33,33,33,33,33,33,33,33,33,33,33,33,33,33,33,33,33,33,33,33,33,33,33,33,33,33,33,33,33,33,33,33,33,33,33,33,33,33,33,33,33,33,33,33,33,33,33,33,33,33,33,33,33,33,33,33,33,33,33,33,33,33,33,33,33,33,33,33,33,33,33,33,33,33,33,33,33,33,33,33,33,33,33,33,33,33,33,33,33,33,33,33],\"start_time\":{\"__ndarray__\":\"AAAAAAAAAAAAAAAAAADQPwAAAAAAAOA/AAAAAAAA7D8AAAAAAADwPwAAAAAAAPY/AAAAAAAA+D8AAAAAAAD+PwAAAAAAAABAAAAAAAAAAkAAAAAAAAAEQAAAAAAAAAZAAAAAAAAACEAAAAAAAAAMQAAAAAAAAA5AAAAAAAAAD0AAAAAAAAAQQAAAAAAAABFAAAAAAAAAEkAAAAAAAAATQAAAAAAAABRAAAAAAAAAFUAAAAAAAAAWQAAAAAAAgBdAAAAAAAAAGEAAAAAAAAAZQAAAAAAAABpAAAAAAAAAG0AAAAAAAAAcQAAAAAAAAB1AAAAAAAAAHkAAAAAAAAAgQAAAAAAAgCBAAAAAAAAAIUAAAAAAAMAhQAAAAAAAACJAAAAAAACAIkAAAAAAAAAjQAAAAAAAwCNAAAAAAAAAJEAAAAAAAIAkQAAAAAAAACVAAAAAAADAJUAAAAAAAAAmQAAAAAAAACdAAAAAAAAAKEAAAAAAAIAoQAAAAAAAAClAAAAAAAAAKkAAAAAAAAArQAAAAAAAwCtAAAAAAAAALEAAAAAAAIAsQAAAAAAAAC1AAAAAAADALUAAAAAAAAAuQAAAAAAAgC5AAAAAAAAAL0AAAAAAAAAwQAAAAAAAQDBAAAAAAACAMEAAAAAAAAAxQAAAAAAAQDFAAAAAAACAMUAAAAAAAOAxQAAAAAAAADJAAAAAAABAMkAAAAAAAIAyQAAAAAAA4DJAAAAAAAAAM0AAAAAAAEAzQAAAAAAAgDNAAAAAAADgM0AAAAAAAAA0QAAAAAAAQDRAAAAAAACANEAAAAAAAOA0QAAAAAAAADVAAAAAAABANUAAAAAAAIA1QAAAAAAA4DVAAAAAAAAANkAAAAAAAEA2QAAAAAAAgDZAAAAAAACgNkAAAAAAAMA2QAAAAAAAADdAAAAAAABAN0AAAAAAAIA3QAAAAAAA4DdAAAAAAAAAOEAAAAAAAEA4QAAAAAAAgDhAAAAAAAAAOUAAAAAAAEA5QAAAAAAAgDlAAAAAAAAAOkAAAAAAAIA6QAAAAAAA4DpAAAAAAAAAO0AAAAAAAGA7QAAAAAAAgDtAAAAAAAAAPEAAAAAAAEA8QAAAAAAAgDxAAAAAAADgPEAAAAAAAAA9QAAAAAAAgD1AAAAAAADgPUAAAAAAAIA+QAAAAAAAwD5AAAAAAAAAP0AAAAAAAGA/QAAAAAAA4D9A\",\"dtype\":\"float64\",\"order\":\"little\",\"shape\":[114]},\"top\":{\"__ndarray__\":\"MzMzMzMzQkAzMzMzMzNCQDMzMzMzs0VAMzMzMzOzRUAzMzMzMzNDQDMzMzMzM0NAMzMzMzOzRkAzMzMzMzNDQDMzMzMzs0BAMzMzMzOzRkAzMzMzM7NFQDMzMzMzM0VAMzMzMzMzREAzMzMzMzNKQDMzMzMzM0lAMzMzMzOzSEAzMzMzM7NBQDMzMzMzs0FAMzMzMzOzQ0AzMzMzMzNFQDMzMzMzM0RAMzMzMzMzREAzMzMzMzNGQDMzMzMzM0VAMzMzMzOzQUAzMzMzM7NBQDMzMzMzM0NAMzMzMzOzQ0AzMzMzMzNEQDMzMzMzM0RAMzMzMzMzREAzMzMzMzNEQDMzMzMzM0RAMzMzMzMzSkAzMzMzMzNKQDMzMzMzM0RAMzMzMzMzREAzMzMzMzNKQDMzMzMzM0pAMzMzMzMzREAzMzMzMzNKQDMzMzMzM0RAMzMzMzMzSkAzMzMzMzNEQDMzMzMzM0RAMzMzMzOzQUAzMzMzM7NBQDMzMzMzs0dAMzMzMzMzRUAzMzMzM7NGQDMzMzMzs0dAMzMzMzMzREAzMzMzMzNEQDMzMzMzM0RAMzMzMzOzR0AzMzMzMzNEQDMzMzMzM0RAMzMzMzMzSkAzMzMzMzNEQDMzMzMzM0RAMzMzMzMzSkAzMzMzMzNEQDMzMzMzM0RAMzMzMzMzSkAzMzMzMzNEQDMzMzMzM0VAMzMzMzMzRUAzMzMzMzNFQDMzMzMzM0VAMzMzMzMzREAzMzMzMzNEQDMzMzMzM0RAMzMzMzMzREAzMzMzM7NBQDMzMzMzs0FAMzMzMzOzR0AzMzMzM7NHQDMzMzMzs0ZAMzMzMzOzRkAzMzMzMzNGQDMzMzMzM0VAMzMzMzOzQUAzMzMzM7NBQDMzMzMzM0NAMzMzMzOzQ0AzMzMzMzNFQDMzMzMzs0ZAMzMzMzOzRkAzMzMzMzNEQDMzMzMzM0RAMzMzMzMzREAzMzMzMzNEQDMzMzMzM0pAMzMzMzMzREAzMzMzMzNEQDMzMzMzM0pAMzMzMzMzREAzMzMzM7NGQDMzMzMzs0ZAMzMzMzOzR0AzMzMzM7NHQDMzMzMzs0hAMzMzMzOzRkAzMzMzM7NGQDMzMzMzs0ZAMzMzMzOzRkAzMzMzM7NHQDMzMzMzs0dAMzMzMzOzR0AzMzMzM7NFQDMzMzMzs0VAMzMzMzMzRUAzMzMzMzNFQDMzMzMzM0VA\",\"dtype\":\"float64\",\"order\":\"little\",\"shape\":[114]},\"velocity\":[80,80,80,80,80,80,80,80,80,80,80,80,80,80,80,80,80,80,80,80,80,80,80,80,80,80,80,80,80,80,80,80,80,80,80,80,80,80,80,80,80,80,80,80,80,80,80,80,80,80,80,80,80,80,80,80,80,80,80,80,80,80,80,80,80,80,80,80,80,80,80,80,80,80,80,80,80,80,80,80,80,80,80,80,80,80,80,80,80,80,80,80,80,80,80,80,80,80,80,80,80,80,80,80,80,80,80,80,80,80,80,80,80,80]},\"selected\":{\"id\":\"1062\"},\"selection_policy\":{\"id\":\"1063\"}},\"id\":\"1040\",\"type\":\"ColumnDataSource\"},{\"attributes\":{},\"id\":\"1055\",\"type\":\"BasicTickFormatter\"},{\"attributes\":{},\"id\":\"1020\",\"type\":\"PanTool\"},{\"attributes\":{\"bottom\":{\"field\":\"bottom\"},\"fill_alpha\":{\"value\":0.1},\"fill_color\":{\"value\":\"#f46d43\"},\"left\":{\"field\":\"start_time\"},\"line_alpha\":{\"value\":0.1},\"right\":{\"field\":\"end_time\"},\"top\":{\"field\":\"top\"}},\"id\":\"1049\",\"type\":\"Quad\"},{\"attributes\":{},\"id\":\"1054\",\"type\":\"AllLabels\"},{\"attributes\":{\"axis_label\":\"pitch (MIDI)\",\"formatter\":{\"id\":\"1058\"},\"major_label_policy\":{\"id\":\"1057\"},\"ticker\":{\"id\":\"1031\"}},\"id\":\"1015\",\"type\":\"LinearAxis\"},{\"attributes\":{\"callback\":null,\"tooltips\":[[\"pitch\",\"@pitch\"],[\"program\",\"@program\"],[\"velo\",\"@velocity\"],[\"duration\",\"@duration\"],[\"start_time\",\"@start_time\"],[\"end_time\",\"@end_time\"],[\"velocity\",\"@velocity\"],[\"fill_alpha\",\"@fill_alpha\"]]},\"id\":\"1019\",\"type\":\"HoverTool\"},{\"attributes\":{},\"id\":\"1057\",\"type\":\"AllLabels\"},{\"attributes\":{},\"id\":\"1007\",\"type\":\"LinearScale\"},{\"attributes\":{\"axis\":{\"id\":\"1015\"},\"dimension\":1,\"ticker\":{\"id\":\"1033\"}},\"id\":\"1018\",\"type\":\"Grid\"},{\"attributes\":{},\"id\":\"1058\",\"type\":\"BasicTickFormatter\"},{\"attributes\":{},\"id\":\"1022\",\"type\":\"ResetTool\"},{\"attributes\":{\"bottom\":{\"field\":\"bottom\"},\"fill_alpha\":{\"field\":\"fill_alpha\"},\"fill_color\":{\"value\":\"#3288bd\"},\"left\":{\"field\":\"start_time\"},\"right\":{\"field\":\"end_time\"},\"top\":{\"field\":\"top\"}},\"id\":\"1042\",\"type\":\"Quad\"},{\"attributes\":{},\"id\":\"1003\",\"type\":\"DataRange1d\"},{\"attributes\":{\"source\":{\"id\":\"1034\"}},\"id\":\"1039\",\"type\":\"CDSView\"},{\"attributes\":{\"overlay\":{\"id\":\"1024\"}},\"id\":\"1021\",\"type\":\"BoxZoomTool\"},{\"attributes\":{\"bottom\":{\"field\":\"bottom\"},\"fill_alpha\":{\"value\":0.1},\"fill_color\":{\"value\":\"#3288bd\"},\"left\":{\"field\":\"start_time\"},\"line_alpha\":{\"value\":0.1},\"right\":{\"field\":\"end_time\"},\"top\":{\"field\":\"top\"}},\"id\":\"1043\",\"type\":\"Quad\"},{\"attributes\":{},\"id\":\"1061\",\"type\":\"UnionRenderers\"},{\"attributes\":{},\"id\":\"1064\",\"type\":\"Selection\"},{\"attributes\":{\"source\":{\"id\":\"1046\"}},\"id\":\"1051\",\"type\":\"CDSView\"},{\"attributes\":{},\"id\":\"1065\",\"type\":\"UnionRenderers\"},{\"attributes\":{\"source\":{\"id\":\"1040\"}},\"id\":\"1045\",\"type\":\"CDSView\"},{\"attributes\":{},\"id\":\"1060\",\"type\":\"Selection\"},{\"attributes\":{\"active_multi\":null,\"tools\":[{\"id\":\"1019\"},{\"id\":\"1020\"},{\"id\":\"1021\"},{\"id\":\"1022\"},{\"id\":\"1023\"}]},\"id\":\"1025\",\"type\":\"Toolbar\"},{\"attributes\":{},\"id\":\"1012\",\"type\":\"BasicTicker\"},{\"attributes\":{\"data_source\":{\"id\":\"1034\"},\"glyph\":{\"id\":\"1036\"},\"hover_glyph\":null,\"muted_glyph\":null,\"nonselection_glyph\":{\"id\":\"1037\"},\"view\":{\"id\":\"1039\"}},\"id\":\"1038\",\"type\":\"GlyphRenderer\"},{\"attributes\":{\"data\":{\"bottom\":{\"__ndarray__\":\"ZmZmZmamUUBmZmZmZqZRQGZmZmZmplFAzczMzMzMSUDNzMzMzExNQGZmZmZmplFAzczMzMxMTUBmZmZmZiZRQGZmZmZmJlFAZmZmZmbmUEBmZmZmZuZQQGZmZmZmZlBAZmZmZmamUUBmZmZmZmZQQGZmZmZmplFAZmZmZmamUEBmZmZmZqZRQGZmZmZmplFAzczMzMzMQ0DNzMzMzExHQM3MzMzMzE9AzczMzMxMR0DNzMzMzMxPQM3MzMzMTEdAzczMzMzMT0DNzMzMzExHQM3MzMzMzEpAzczMzMxMTEBmZmZmZiZRQGZmZmZmJlFAzczMzMzMSkDNzMzMzExMQGZmZmZmJlFAZmZmZmYmUUDNzMzMzExHQM3MzMzMzEpAZmZmZmYmUUBmZmZmZiZRQGZmZmZm5lBAZmZmZmbmUEBmZmZmZuZQQGZmZmZm5lBAzczMzMzMSUBmZmZmZuZQQM3MzMzMTE1AzczMzMzMSUDNzMzMzMxJQM3MzMzMTE1AZmZmZmbmUEBmZmZmZuZQQM3MzMzMTE1AzczMzMzMSUDNzMzMzExNQGZmZmZm5lJAzczMzMxMTUBmZmZmZqZRQM3MzMzMTE1AZmZmZmamUUBmZmZmZiZSQM3MzMzMzEpAZmZmZmYmUkBmZmZmZiZSQM3MzMzMzEpAZmZmZmYmUkBmZmZmZiZSQGZmZmZmJlJAZmZmZmZmUEDNzMzMzMxKQGZmZmZmplFAZmZmZmZmUEDNzMzMzMxKQM3MzMzMzEpAzczMzMxMT0BmZmZmZqZRQM3MzMzMTEdAzczMzMzMSkBmZmZmZqZRQGZmZmZmplFAZmZmZmamUUBmZmZmZqZRQGZmZmZmplFAZmZmZmamUUDNzMzMzMxDQM3MzMzMTEdAzczMzMzMT0DNzMzMzExHQM3MzMzMzE9AzczMzMzMSUDNzMzMzExHQM3MzMzMzE9AzczMzMxMR0DNzMzMzMxPQM3MzMzMzENAzczMzMzMT0DNzMzMzMxPQM3MzMzMzElAzczMzMzMT0DNzMzMzMxPQM3MzMzMTEhAZmZmZmbmUEBmZmZmZuZQQM3MzMzMTEhAZmZmZmbmUEDNzMzMzExIQGZmZmZm5lBAZmZmZmbmUEDNzMzMzExNQM3MzMzMTEdAZmZmZmamUUDNzMzMzExNQGZmZmZmplFAzczMzMxMTUA=\",\"dtype\":\"float64\",\"order\":\"little\",\"shape\":[112]},\"duration\":{\"__ndarray__\":\"AAAAAAAA4D8AAAAAAADgPwAAAAAAANA/AAAAAAAAwD8AAAAAAADAPwAAAAAAANA/AAAAAAAAwD8AAAAAAADgPwAAAAAAAOA/AAAAAAAA4D8AAAAAAADgPwAAAAAAAOA/AAAAAAAA4D8AAAAAAADYPwAAAAAAANg/AAAAAAAA4D8AAAAAAADgPwAAAAAAAOg/AAAAAAAA0D8AAAAAAADQPwAAAAAAANA/AAAAAAAA0D8AAAAAAADQPwAAAAAAANA/AAAAAAAA0D8AAAAAAADAPwAAAAAAANA/AAAAAAAA0D8AAAAAAADYPwAAAAAAAMA/AAAAAAAA0D8AAAAAAADQPwAAAAAAANg/AAAAAAAAwD8AAAAAAADQPwAAAAAAANA/AAAAAAAA2D8AAAAAAADAPwAAAAAAAMA/AAAAAAAAwD8AAAAAAADAPwAAAAAAAMA/AAAAAAAA4D8AAAAAAADYPwAAAAAAAMA/AAAAAAAAwD8AAAAAAADAPwAAAAAAAMA/AAAAAAAA0D8AAAAAAADAPwAAAAAAAMA/AAAAAAAA0D8AAAAAAADQPwAAAAAAANA/AAAAAAAAwD8AAAAAAADAPwAAAAAAAMA/AAAAAAAAwD8AAAAAAADAPwAAAAAAAOA/AAAAAAAA2D8AAAAAAADAPwAAAAAAANA/AAAAAAAAwD8AAAAAAADAPwAAAAAAAMA/AAAAAAAA0D8AAAAAAADQPwAAAAAAANg/AAAAAAAAwD8AAAAAAADQPwAAAAAAAMA/AAAAAAAAwD8AAAAAAADYPwAAAAAAANA/AAAAAAAA0D8AAAAAAADYPwAAAAAAANg/AAAAAAAAwD8AAAAAAADAPwAAAAAAAMA/AAAAAAAAwD8AAAAAAADQPwAAAAAAANA/AAAAAAAA0D8AAAAAAADAPwAAAAAAAMA/AAAAAAAA0D8AAAAAAADQPwAAAAAAAMA/AAAAAAAAwD8AAAAAAADAPwAAAAAAAOA/AAAAAAAA0D8AAAAAAADAPwAAAAAAAOA/AAAAAAAA0D8AAAAAAADAPwAAAAAAAOA/AAAAAAAA0D8AAAAAAADAPwAAAAAAAMA/AAAAAAAAwD8AAAAAAADAPwAAAAAAANA/AAAAAAAA5D8AAAAAAADQPwAAAAAAAMA/AAAAAAAAwD8AAAAAAADAPwAAAAAAAMA/AAAAAAAAwD8=\",\"dtype\":\"float64\",\"order\":\"little\",\"shape\":[112]},\"end_time\":{\"__ndarray__\":\"AAAAAAAA4D8AAAAAAADwPwAAAAAAAPQ/AAAAAAAA9j8AAAAAAAD4PwAAAAAAAPw/AAAAAAAA/j8AAAAAAAAEQAAAAAAAAAhAAAAAAAAADEAAAAAAAAAQQAAAAAAAABJAAAAAAAAAFEAAAAAAAIAVQAAAAAAAgBdAAAAAAAAAGkAAAAAAAAAcQAAAAAAAAB9AAAAAAACAIEAAAAAAAAAhQAAAAAAAgCFAAAAAAAAAIkAAAAAAAIAiQAAAAAAAACNAAAAAAACAI0AAAAAAAMAjQAAAAAAAgCRAAAAAAAAAJUAAAAAAAMAlQAAAAAAAACZAAAAAAACAJkAAAAAAAAAnQAAAAAAAwCdAAAAAAAAAKEAAAAAAAIAoQAAAAAAAAClAAAAAAADAKUAAAAAAAAAqQAAAAAAAQCpAAAAAAAAAK0AAAAAAAEArQAAAAAAAACxAAAAAAAAALUAAAAAAAMAtQAAAAAAAAC5AAAAAAABALkAAAAAAAMAuQAAAAAAAAC9AAAAAAACAL0AAAAAAAMAvQAAAAAAAADBAAAAAAABAMEAAAAAAAIAwQAAAAAAAwDBAAAAAAADgMEAAAAAAACAxQAAAAAAAYDFAAAAAAACgMUAAAAAAAAAyQAAAAAAAgDJAAAAAAADgMkAAAAAAAAAzQAAAAAAAQDNAAAAAAACAM0AAAAAAAKAzQAAAAAAA4DNAAAAAAABANEAAAAAAAIA0QAAAAAAA4DRAAAAAAAAANUAAAAAAAEA1QAAAAAAAYDVAAAAAAACANUAAAAAAAOA1QAAAAAAAQDZAAAAAAACANkAAAAAAAOA2QAAAAAAAYDdAAAAAAACgN0AAAAAAAMA3QAAAAAAA4DdAAAAAAAAAOEAAAAAAAEA4QAAAAAAAgDhAAAAAAADAOEAAAAAAAOA4QAAAAAAAADlAAAAAAABAOUAAAAAAAIA5QAAAAAAAoDlAAAAAAADgOUAAAAAAAAA6QAAAAAAAgDpAAAAAAADAOkAAAAAAAAA7QAAAAAAAgDtAAAAAAADAO0AAAAAAAAA8QAAAAAAAgDxAAAAAAADAPEAAAAAAAAA9QAAAAAAAID1AAAAAAABAPUAAAAAAAGA9QAAAAAAAwD1AAAAAAACAPkAAAAAAAMA+QAAAAAAA4D5AAAAAAAAgP0AAAAAAAEA/QAAAAAAAgD9AAAAAAACgP0A=\",\"dtype\":\"float64\",\"order\":\"little\",\"shape\":[112]},\"fill_alpha\":{\"__ndarray__\":\"AAAAAAAA8D8AAAAAAADwPwAAAAAAAPA/AAAAAAAA8D8AAAAAAADwPwAAAAAAAPA/AAAAAAAA8D8AAAAAAADwPwAAAAAAAPA/AAAAAAAA8D8AAAAAAADwPwAAAAAAAPA/AAAAAAAA8D8AAAAAAADwPwAAAAAAAPA/AAAAAAAA8D8AAAAAAADwPwAAAAAAAPA/AAAAAAAA8D8AAAAAAADwPwAAAAAAAPA/AAAAAAAA8D8AAAAAAADwPwAAAAAAAPA/AAAAAAAA8D8AAAAAAADwPwAAAAAAAPA/AAAAAAAA8D8AAAAAAADwPwAAAAAAAPA/AAAAAAAA8D8AAAAAAADwPwAAAAAAAPA/AAAAAAAA8D8AAAAAAADwPwAAAAAAAPA/AAAAAAAA8D8AAAAAAADwPwAAAAAAAPA/AAAAAAAA8D8AAAAAAADwPwAAAAAAAPA/AAAAAAAA8D8AAAAAAADwPwAAAAAAAPA/AAAAAAAA8D8AAAAAAADwPwAAAAAAAPA/AAAAAAAA8D8AAAAAAADwPwAAAAAAAPA/AAAAAAAA8D8AAAAAAADwPwAAAAAAAPA/AAAAAAAA8D8AAAAAAADwPwAAAAAAAPA/AAAAAAAA8D8AAAAAAADwPwAAAAAAAPA/AAAAAAAA8D8AAAAAAADwPwAAAAAAAPA/AAAAAAAA8D8AAAAAAADwPwAAAAAAAPA/AAAAAAAA8D8AAAAAAADwPwAAAAAAAPA/AAAAAAAA8D8AAAAAAADwPwAAAAAAAPA/AAAAAAAA8D8AAAAAAADwPwAAAAAAAPA/AAAAAAAA8D8AAAAAAADwPwAAAAAAAPA/AAAAAAAA8D8AAAAAAADwPwAAAAAAAPA/AAAAAAAA8D8AAAAAAADwPwAAAAAAAPA/AAAAAAAA8D8AAAAAAADwPwAAAAAAAPA/AAAAAAAA8D8AAAAAAADwPwAAAAAAAPA/AAAAAAAA8D8AAAAAAADwPwAAAAAAAPA/AAAAAAAA8D8AAAAAAADwPwAAAAAAAPA/AAAAAAAA8D8AAAAAAADwPwAAAAAAAPA/AAAAAAAA8D8AAAAAAADwPwAAAAAAAPA/AAAAAAAA8D8AAAAAAADwPwAAAAAAAPA/AAAAAAAA8D8AAAAAAADwPwAAAAAAAPA/AAAAAAAA8D8AAAAAAADwPwAAAAAAAPA/AAAAAAAA8D8=\",\"dtype\":\"float64\",\"order\":\"little\",\"shape\":[112]},\"index\":[0,1,2,3,4,5,6,7,8,9,10,11,12,13,14,15,16,17,18,19,20,21,22,23,24,25,26,27,28,29,30,31,32,33,34,35,36,37,38,39,40,41,42,43,44,45,46,47,48,49,50,51,52,53,54,55,56,57,58,59,60,61,62,63,64,65,66,67,68,69,70,71,72,73,74,75,76,77,78,79,80,81,82,83,84,85,86,87,88,89,90,91,92,93,94,95,96,97,98,99,100,101,102,103,104,105,106,107,108,109,110,111],\"instrument\":[0,0,0,0,0,0,0,0,0,0,0,0,0,0,0,0,0,0,0,0,0,0,0,0,0,0,0,0,0,0,0,0,0,0,0,0,0,0,0,0,0,0,0,0,0,0,0,0,0,0,0,0,0,0,0,0,0,0,0,0,0,0,0,0,0,0,0,0,0,0,0,0,0,0,0,0,0,0,0,0,0,0,0,0,0,0,0,0,0,0,0,0,0,0,0,0,0,0,0,0,0,0,0,0,0,0,0,0,0,0,0,0],\"pitch\":[71,71,71,52,59,71,59,69,69,68,68,66,71,66,71,67,71,71,40,47,64,47,64,47,64,47,54,57,69,69,54,57,69,69,47,54,69,69,68,68,68,68,52,68,59,52,52,59,68,68,59,52,59,76,59,71,59,71,73,54,73,73,54,73,73,73,66,54,71,66,54,54,63,71,47,54,71,71,71,71,71,71,40,47,64,47,64,52,47,64,47,64,40,64,64,52,64,64,49,68,68,49,68,49,68,68,59,47,71,59,71,59],\"program\":[0,0,0,0,0,0,0,0,0,0,0,0,0,0,0,0,0,0,0,0,0,0,0,0,0,0,0,0,0,0,0,0,0,0,0,0,0,0,0,0,0,0,0,0,0,0,0,0,0,0,0,0,0,0,0,0,0,0,0,0,0,0,0,0,0,0,0,0,0,0,0,0,0,0,0,0,0,0,0,0,0,0,0,0,0,0,0,0,0,0,0,0,0,0,0,0,0,0,0,0,0,0,0,0,0,0,0,0,0,0,0,0],\"start_time\":{\"__ndarray__\":\"AAAAAAAAAAAAAAAAAADgPwAAAAAAAPA/AAAAAAAA9D8AAAAAAAD2PwAAAAAAAPg/AAAAAAAA/D8AAAAAAAAAQAAAAAAAAARAAAAAAAAACEAAAAAAAAAMQAAAAAAAABBAAAAAAAAAEkAAAAAAAAAUQAAAAAAAABZAAAAAAAAAGEAAAAAAAAAaQAAAAAAAABxAAAAAAAAAIEAAAAAAAIAgQAAAAAAAACFAAAAAAACAIUAAAAAAAAAiQAAAAAAAgCJAAAAAAAAAI0AAAAAAAIAjQAAAAAAAACRAAAAAAACAJEAAAAAAAAAlQAAAAAAAwCVAAAAAAAAAJkAAAAAAAIAmQAAAAAAAACdAAAAAAADAJ0AAAAAAAAAoQAAAAAAAgChAAAAAAAAAKUAAAAAAAMApQAAAAAAAACpAAAAAAADAKkAAAAAAAAArQAAAAAAAwCtAAAAAAAAALEAAAAAAAAAtQAAAAAAAwC1AAAAAAAAALkAAAAAAAIAuQAAAAAAAwC5AAAAAAAAAL0AAAAAAAIAvQAAAAAAAwC9AAAAAAAAAMEAAAAAAAEAwQAAAAAAAgDBAAAAAAADAMEAAAAAAAAAxQAAAAAAAQDFAAAAAAACAMUAAAAAAAOAxQAAAAAAAADJAAAAAAACAMkAAAAAAAOAyQAAAAAAAADNAAAAAAABgM0AAAAAAAIAzQAAAAAAAwDNAAAAAAAAANEAAAAAAAEA0QAAAAAAAgDRAAAAAAADgNEAAAAAAAAA1QAAAAAAAQDVAAAAAAABgNUAAAAAAAIA1QAAAAAAAADZAAAAAAABANkAAAAAAAIA2QAAAAAAAADdAAAAAAACAN0AAAAAAAKA3QAAAAAAAwDdAAAAAAADgN0AAAAAAAAA4QAAAAAAAQDhAAAAAAACAOEAAAAAAAMA4QAAAAAAA4DhAAAAAAAAAOUAAAAAAAEA5QAAAAAAAgDlAAAAAAADAOUAAAAAAAOA5QAAAAAAAADpAAAAAAACAOkAAAAAAAOA6QAAAAAAAADtAAAAAAACAO0AAAAAAAOA7QAAAAAAAADxAAAAAAACAPEAAAAAAAOA8QAAAAAAAAD1AAAAAAAAgPUAAAAAAAEA9QAAAAAAAgD1AAAAAAADgPUAAAAAAAIA+QAAAAAAAwD5AAAAAAAAAP0AAAAAAACA/QAAAAAAAYD9AAAAAAACAP0A=\",\"dtype\":\"float64\",\"order\":\"little\",\"shape\":[112]},\"top\":{\"__ndarray__\":\"mpmZmZnZUUCamZmZmdlRQJqZmZmZ2VFAMzMzMzMzSkAzMzMzM7NNQJqZmZmZ2VFAMzMzMzOzTUCamZmZmVlRQJqZmZmZWVFAmpmZmZkZUUCamZmZmRlRQJqZmZmZmVBAmpmZmZnZUUCamZmZmZlQQJqZmZmZ2VFAmpmZmZnZUECamZmZmdlRQJqZmZmZ2VFAMzMzMzMzREAzMzMzM7NHQJqZmZmZGVBAMzMzMzOzR0CamZmZmRlQQDMzMzMzs0dAmpmZmZkZUEAzMzMzM7NHQDMzMzMzM0tAMzMzMzOzTECamZmZmVlRQJqZmZmZWVFAMzMzMzMzS0AzMzMzM7NMQJqZmZmZWVFAmpmZmZlZUUAzMzMzM7NHQDMzMzMzM0tAmpmZmZlZUUCamZmZmVlRQJqZmZmZGVFAmpmZmZkZUUCamZmZmRlRQJqZmZmZGVFAMzMzMzMzSkCamZmZmRlRQDMzMzMzs01AMzMzMzMzSkAzMzMzMzNKQDMzMzMzs01AmpmZmZkZUUCamZmZmRlRQDMzMzMzs01AMzMzMzMzSkAzMzMzM7NNQJqZmZmZGVNAMzMzMzOzTUCamZmZmdlRQDMzMzMzs01AmpmZmZnZUUCamZmZmVlSQDMzMzMzM0tAmpmZmZlZUkCamZmZmVlSQDMzMzMzM0tAmpmZmZlZUkCamZmZmVlSQJqZmZmZWVJAmpmZmZmZUEAzMzMzMzNLQJqZmZmZ2VFAmpmZmZmZUEAzMzMzMzNLQDMzMzMzM0tAMzMzMzOzT0CamZmZmdlRQDMzMzMzs0dAMzMzMzMzS0CamZmZmdlRQJqZmZmZ2VFAmpmZmZnZUUCamZmZmdlRQJqZmZmZ2VFAmpmZmZnZUUAzMzMzMzNEQDMzMzMzs0dAmpmZmZkZUEAzMzMzM7NHQJqZmZmZGVBAMzMzMzMzSkAzMzMzM7NHQJqZmZmZGVBAMzMzMzOzR0CamZmZmRlQQDMzMzMzM0RAmpmZmZkZUECamZmZmRlQQDMzMzMzM0pAmpmZmZkZUECamZmZmRlQQDMzMzMzs0hAmpmZmZkZUUCamZmZmRlRQDMzMzMzs0hAmpmZmZkZUUAzMzMzM7NIQJqZmZmZGVFAmpmZmZkZUUAzMzMzM7NNQDMzMzMzs0dAmpmZmZnZUUAzMzMzM7NNQJqZmZmZ2VFAMzMzMzOzTUA=\",\"dtype\":\"float64\",\"order\":\"little\",\"shape\":[112]},\"velocity\":[80,80,80,80,80,80,80,80,80,80,80,80,80,80,80,80,80,80,80,80,80,80,80,80,80,80,80,80,80,80,80,80,80,80,80,80,80,80,80,80,80,80,80,80,80,80,80,80,80,80,80,80,80,80,80,80,80,80,80,80,80,80,80,80,80,80,80,80,80,80,80,80,80,80,80,80,80,80,80,80,80,80,80,80,80,80,80,80,80,80,80,80,80,80,80,80,80,80,80,80,80,80,80,80,80,80,80,80,80,80,80,80]},\"selected\":{\"id\":\"1060\"},\"selection_policy\":{\"id\":\"1061\"}},\"id\":\"1034\",\"type\":\"ColumnDataSource\"},{\"attributes\":{\"axis\":{\"id\":\"1011\"},\"ticker\":null},\"id\":\"1014\",\"type\":\"Grid\"},{\"attributes\":{},\"id\":\"1005\",\"type\":\"DataRange1d\"},{\"attributes\":{\"bottom\":{\"field\":\"bottom\"},\"fill_alpha\":{\"value\":0.1},\"fill_color\":{\"value\":\"#d53e4f\"},\"left\":{\"field\":\"start_time\"},\"line_alpha\":{\"value\":0.1},\"right\":{\"field\":\"end_time\"},\"top\":{\"field\":\"top\"}},\"id\":\"1037\",\"type\":\"Quad\"},{\"attributes\":{\"interval\":12},\"id\":\"1033\",\"type\":\"SingleIntervalTicker\"},{\"attributes\":{\"interval\":12},\"id\":\"1031\",\"type\":\"SingleIntervalTicker\"},{\"attributes\":{},\"id\":\"1062\",\"type\":\"Selection\"},{\"attributes\":{},\"id\":\"1009\",\"type\":\"LinearScale\"},{\"attributes\":{},\"id\":\"1063\",\"type\":\"UnionRenderers\"},{\"attributes\":{\"data\":{\"bottom\":{\"__ndarray__\":\"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\",\"dtype\":\"float64\",\"order\":\"little\",\"shape\":[264]},\"duration\":{\"__ndarray__\":\"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\",\"dtype\":\"float64\",\"order\":\"little\",\"shape\":[264]},\"end_time\":{\"__ndarray__\":\"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\",\"dtype\":\"float64\",\"order\":\"little\",\"shape\":[264]},\"fill_alpha\":{\"__ndarray__\":\"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\",\"dtype\":\"float64\",\"order\":\"little\",\"shape\":[264]},\"index\":[226,227,228,229,230,231,232,233,234,235,236,237,238,239,240,241,242,243,244,245,246,247,248,249,250,251,252,253,254,255,256,257,258,259,260,261,262,263,264,265,266,267,268,269,270,271,272,273,274,275,276,277,278,279,280,281,282,283,284,285,286,287,288,289,290,291,292,293,294,295,296,297,298,299,300,301,302,303,304,305,306,307,308,309,310,311,312,313,314,315,316,317,318,319,320,321,322,323,324,325,326,327,328,329,330,331,332,333,334,335,336,337,338,339,340,341,342,343,344,345,346,347,348,349,350,351,352,353,354,355,356,357,358,359,360,361,362,363,364,365,366,367,368,369,370,371,372,373,374,375,376,377,378,379,380,381,382,383,384,385,386,387,388,389,390,391,392,393,394,395,396,397,398,399,400,401,402,403,404,405,406,407,408,409,410,411,412,413,414,415,416,417,418,419,420,421,422,423,424,425,426,427,428,429,430,431,432,433,434,435,436,437,438,439,440,441,442,443,444,445,446,447,448,449,450,451,452,453,454,455,456,457,458,459,460,461,462,463,464,465,466,467,468,469,470,471,472,473,474,475,476,477,478,479,480,481,482,483,484,485,486,487,488,489],\"instrument\":[9,9,9,9,9,9,9,9,9,9,9,9,9,9,9,9,9,9,9,9,9,9,9,9,9,9,9,9,9,9,9,9,9,9,9,9,9,9,9,9,9,9,9,9,9,9,9,9,9,9,9,9,9,9,9,9,9,9,9,9,9,9,9,9,9,9,9,9,9,9,9,9,9,9,9,9,9,9,9,9,9,9,9,9,9,9,9,9,9,9,9,9,9,9,9,9,9,9,9,9,9,9,9,9,9,9,9,9,9,9,9,9,9,9,9,9,9,9,9,9,9,9,9,9,9,9,9,9,9,9,9,9,9,9,9,9,9,9,9,9,9,9,9,9,9,9,9,9,9,9,9,9,9,9,9,9,9,9,9,9,9,9,9,9,9,9,9,9,9,9,9,9,9,9,9,9,9,9,9,9,9,9,9,9,9,9,9,9,9,9,9,9,9,9,9,9,9,9,9,9,9,9,9,9,9,9,9,9,9,9,9,9,9,9,9,9,9,9,9,9,9,9,9,9,9,9,9,9,9,9,9,9,9,9,9,9,9,9,9,9,9,9,9,9,9,9,9,9,9,9,9,9,9,9,9,9,9,9,9,9,9,9,9,9],\"pitch\":[49,36,42,42,49,42,38,42,42,36,49,36,38,42,38,42,36,49,38,42,42,36,51,36,42,36,46,51,38,42,36,42,51,42,36,46,51,38,42,36,42,36,42,36,49,42,38,42,36,42,36,42,36,49,42,38,42,36,42,36,42,36,49,42,38,42,36,42,38,42,36,49,42,38,42,36,49,36,42,36,46,49,38,42,42,36,42,36,46,49,38,42,36,42,36,42,49,36,38,42,42,36,42,49,36,38,46,36,42,36,42,36,46,49,38,42,42,36,42,36,46,49,38,36,42,36,42,36,46,49,38,42,42,36,42,36,46,49,38,36,49,36,42,49,36,38,42,42,36,46,42,36,38,46,36,42,36,42,49,36,38,42,42,36,42,49,36,38,46,36,42,36,42,36,49,42,38,42,42,36,42,36,49,42,38,46,36,42,36,42,36,46,49,38,42,42,36,42,36,46,49,38,36,49,36,42,49,36,38,46,42,36,42,49,36,38,46,36,42,36,42,49,36,38,46,42,36,42,49,36,38,46,36,42,36,46,49,42,36,38,46,42,36,46,42,36,46,36,46,36,36,46,36,46,49,38,46,36,46,36,46,36,49,38],\"program\":[0,0,0,0,0,0,0,0,0,0,0,0,0,0,0,0,0,0,0,0,0,0,0,0,0,0,0,0,0,0,0,0,0,0,0,0,0,0,0,0,0,0,0,0,0,0,0,0,0,0,0,0,0,0,0,0,0,0,0,0,0,0,0,0,0,0,0,0,0,0,0,0,0,0,0,0,0,0,0,0,0,0,0,0,0,0,0,0,0,0,0,0,0,0,0,0,0,0,0,0,0,0,0,0,0,0,0,0,0,0,0,0,0,0,0,0,0,0,0,0,0,0,0,0,0,0,0,0,0,0,0,0,0,0,0,0,0,0,0,0,0,0,0,0,0,0,0,0,0,0,0,0,0,0,0,0,0,0,0,0,0,0,0,0,0,0,0,0,0,0,0,0,0,0,0,0,0,0,0,0,0,0,0,0,0,0,0,0,0,0,0,0,0,0,0,0,0,0,0,0,0,0,0,0,0,0,0,0,0,0,0,0,0,0,0,0,0,0,0,0,0,0,0,0,0,0,0,0,0,0,0,0,0,0,0,0,0,0,0,0,0,0,0,0,0,0,0,0,0,0,0,0,0,0,0,0,0,0,0,0,0,0,0,0],\"start_time\":{\"__ndarray__\":\"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\",\"dtype\":\"float64\",\"order\":\"little\",\"shape\":[264]},\"top\":{\"__ndarray__\":\"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\",\"dtype\":\"float64\",\"order\":\"little\",\"shape\":[264]},\"velocity\":[80,80,80,80,80,80,80,80,80,80,80,80,80,80,80,80,80,80,80,80,80,80,80,80,80,80,80,80,80,80,80,80,80,80,80,80,80,80,80,80,80,80,80,80,80,80,80,80,80,80,80,80,80,80,80,80,80,80,80,80,80,80,80,80,80,80,80,80,80,80,80,80,80,80,80,80,80,80,80,80,80,80,80,80,80,80,80,80,80,80,80,80,80,80,80,80,80,80,80,80,80,80,80,80,80,80,80,80,80,80,80,80,80,80,80,80,80,80,80,80,80,80,80,80,80,80,80,80,80,80,80,80,80,80,80,80,80,80,80,80,80,80,80,80,80,80,80,80,80,80,80,80,80,80,80,80,80,80,80,80,80,80,80,80,80,80,80,80,80,80,80,80,80,80,80,80,80,80,80,80,80,80,80,80,80,80,80,80,80,80,80,80,80,80,80,80,80,80,80,80,80,80,80,80,80,80,80,80,80,80,80,80,80,80,80,80,80,80,80,80,80,80,80,80,80,80,80,80,80,80,80,80,80,80,80,80,80,80,80,80,80,80,80,80,80,80,80,80,80,80,80,80,80,80,80,80,80,80,80,80,80,80,80,80]},\"selected\":{\"id\":\"1064\"},\"selection_policy\":{\"id\":\"1065\"}},\"id\":\"1046\",\"type\":\"ColumnDataSource\"},{\"attributes\":{},\"id\":\"1023\",\"type\":\"SaveTool\"}],\"root_ids\":[\"1002\"]},\"title\":\"Bokeh Application\",\"version\":\"2.3.2\"}};\n",
              "  var render_items = [{\"docid\":\"ebd79c16-083a-479f-bc16-d357e040ad69\",\"root_ids\":[\"1002\"],\"roots\":{\"1002\":\"79abbcbb-9886-4470-be95-b692c20d9482\"}}];\n",
              "  root.Bokeh.embed.embed_items_notebook(docs_json, render_items);\n",
              "\n",
              "  }\n",
              "  if (root.Bokeh !== undefined) {\n",
              "    embed_document(root);\n",
              "  } else {\n",
              "    var attempts = 0;\n",
              "    var timer = setInterval(function(root) {\n",
              "      if (root.Bokeh !== undefined) {\n",
              "        clearInterval(timer);\n",
              "        embed_document(root);\n",
              "      } else {\n",
              "        attempts++;\n",
              "        if (attempts > 100) {\n",
              "          clearInterval(timer);\n",
              "          console.log(\"Bokeh: ERROR: Unable to run BokehJS code because BokehJS library is missing\");\n",
              "        }\n",
              "      }\n",
              "    }, 10, root)\n",
              "  }\n",
              "})(window);"
            ],
            "application/vnd.bokehjs_exec.v0+json": ""
          },
          "metadata": {
            "tags": [],
            "application/vnd.bokehjs_exec.v0+json": {
              "id": "1002"
            }
          }
        },
        {
          "output_type": "display_data",
          "data": {
            "text/html": [
              "<div id=\"id_1\"> </div>"
            ],
            "text/plain": [
              "<IPython.core.display.HTML object>"
            ]
          },
          "metadata": {
            "tags": []
          }
        },
        {
          "output_type": "display_data",
          "data": {
            "application/javascript": [
              "\n",
              "    async function download(id, filename, size) {\n",
              "      if (!google.colab.kernel.accessAllowed) {\n",
              "        return;\n",
              "      }\n",
              "      const div = document.createElement('div');\n",
              "      const label = document.createElement('label');\n",
              "      label.textContent = `Downloading \"${filename}\": `;\n",
              "      div.appendChild(label);\n",
              "      const progress = document.createElement('progress');\n",
              "      progress.max = size;\n",
              "      div.appendChild(progress);\n",
              "      document.body.appendChild(div);\n",
              "\n",
              "      const buffers = [];\n",
              "      let downloaded = 0;\n",
              "\n",
              "      const channel = await google.colab.kernel.comms.open(id);\n",
              "      // Send a message to notify the kernel that we're ready.\n",
              "      channel.send({})\n",
              "\n",
              "      for await (const message of channel.messages) {\n",
              "        // Send a message to notify the kernel that we're ready.\n",
              "        channel.send({})\n",
              "        if (message.buffers) {\n",
              "          for (const buffer of message.buffers) {\n",
              "            buffers.push(buffer);\n",
              "            downloaded += buffer.byteLength;\n",
              "            progress.value = downloaded;\n",
              "          }\n",
              "        }\n",
              "      }\n",
              "      const blob = new Blob(buffers, {type: 'application/binary'});\n",
              "      const a = document.createElement('a');\n",
              "      a.href = window.URL.createObjectURL(blob);\n",
              "      a.download = filename;\n",
              "      div.appendChild(a);\n",
              "      a.click();\n",
              "      div.remove();\n",
              "    }\n",
              "  "
            ],
            "text/plain": [
              "<IPython.core.display.Javascript object>"
            ]
          },
          "metadata": {
            "tags": []
          }
        },
        {
          "output_type": "display_data",
          "data": {
            "application/javascript": [
              "download(\"download_9edf0f29-34f6-4f93-bfca-bbd769be0b0e\", \"trio_sample.mid\", 3077)"
            ],
            "text/plain": [
              "<IPython.core.display.Javascript object>"
            ]
          },
          "metadata": {
            "tags": []
          }
        }
      ]
    },
    {
      "cell_type": "code",
      "metadata": {
        "colab": {
          "resources": {
            "http://localhost:8080/nbextensions/google.colab/files.js": {
              "data": "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",
              "ok": true,
              "headers": [
                [
                  "content-type",
                  "application/javascript"
                ]
              ],
              "status": 200,
              "status_text": "OK"
            }
          },
          "base_uri": "https://localhost:8080/",
          "height": 84
        },
        "id": "NT2M50sP4KDP",
        "outputId": "4d522076-450b-4793-b187-214d90b63096"
      },
      "source": [
        "# upload 2 midi files and interpolate them\n",
        "upload = False\n",
        "\n",
        "if upload:\n",
        "    uploaded_files = files.upload() # this puts it in file storage too\n"
      ],
      "execution_count": null,
      "outputs": [
        {
          "output_type": "display_data",
          "data": {
            "text/html": [
              "\n",
              "     <input type=\"file\" id=\"files-2ca6b3af-3d12-4610-9560-2ff3030db969\" name=\"files[]\" multiple disabled\n",
              "        style=\"border:none\" />\n",
              "     <output id=\"result-2ca6b3af-3d12-4610-9560-2ff3030db969\">\n",
              "      Upload widget is only available when the cell has been executed in the\n",
              "      current browser session. Please rerun this cell to enable.\n",
              "      </output>\n",
              "      <script src=\"/nbextensions/google.colab/files.js\"></script> "
            ],
            "text/plain": [
              "<IPython.core.display.HTML object>"
            ]
          },
          "metadata": {
            "tags": []
          }
        },
        {
          "output_type": "stream",
          "text": [
            "Saving trio_sample(7).mid to trio_sample(7) (1).mid\n"
          ],
          "name": "stdout"
        }
      ]
    },
    {
      "cell_type": "code",
      "metadata": {
        "id": "j7KsLqrbccIM"
      },
      "source": [
        "import random\n",
        "\n",
        "for i in range(50):\n",
        "    t = round(random.random(), 1)\n",
        "    print(t)\n",
        "    #new_midi = music_vae.sample(n=1, length=80, temperature=t)\n",
        "    break\n",
        "\n"
      ],
      "execution_count": null,
      "outputs": []
    }
  ]
}